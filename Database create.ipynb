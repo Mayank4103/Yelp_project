{
 "cells": [
  {
   "cell_type": "code",
   "execution_count": 1,
   "id": "1cea093b",
   "metadata": {},
   "outputs": [],
   "source": [
    "import pandas as pd\n",
    "import json\n",
    "from sqlalchemy import create_engine"
   ]
  },
  {
   "cell_type": "code",
   "execution_count": 2,
   "id": "ae4a05f4",
   "metadata": {},
   "outputs": [],
   "source": [
    "with open(\"yelp_academic_dataset_business.json\",\"r\", encoding=\"utf-8\") as f :\n",
    "        business_data = [json.loads(line) for line in f]\n",
    "business_df = pd.DataFrame(business_data) \n",
    "\n",
    "\n",
    "with open(\"yelp_academic_dataset_checkin.json\",\"r\", encoding=\"utf-8\") as f :\n",
    "        checkin_status = [json.loads(line) for line in f]\n",
    "checkin_status_df = pd.DataFrame(checkin_status) \n",
    "\n",
    "\n",
    "\n",
    "with open(\"yelp_academic_dataset_review.json\",\"r\", encoding=\"utf-8\") as f :\n",
    "        review = [json.loads(line) for line in f]\n",
    "review_df = pd.DataFrame(review) \n",
    "\n",
    "\n",
    "\n",
    "with open(\"yelp_academic_dataset_tip.json\",\"r\", encoding=\"utf-8\") as f :\n",
    "        tip = [json.loads(line) for line in f]\n",
    "tip_df = pd.DataFrame(tip) \n",
    "\n",
    "\n",
    "with open(\"yelp_academic_dataset_user.json\",\"r\", encoding=\"utf-8\") as f :\n",
    "        user = [json.loads(line) for line in f]\n",
    "user_df = pd.DataFrame(user) \n"
   ]
  },
  {
   "cell_type": "code",
   "execution_count": 7,
   "id": "f4918818",
   "metadata": {},
   "outputs": [
    {
     "name": "stdout",
     "output_type": "stream",
     "text": [
      "(150346, 14)\n",
      "(131930, 2)\n",
      "(6990280, 9)\n",
      "(908915, 5)\n",
      "(1987897, 22)\n"
     ]
    }
   ],
   "source": [
    "print(business_df.shape)\n",
    "print(checkin_status_df.shape)\n",
    "print(review_df.shape)\n",
    "print(tip_df.shape)\n",
    "print(user_df.shape)"
   ]
  },
  {
   "cell_type": "code",
   "execution_count": 8,
   "id": "fc4408c0",
   "metadata": {},
   "outputs": [
    {
     "name": "stdout",
     "output_type": "stream",
     "text": [
      "['business_id', 'name', 'address', 'city', 'state', 'postal_code', 'latitude', 'longitude', 'stars', 'review_count', 'is_open', 'attributes', 'categories', 'hours']\n"
     ]
    }
   ],
   "source": [
    "print(list(business_df.columns))"
   ]
  },
  {
   "cell_type": "code",
   "execution_count": 9,
   "id": "7a80c031",
   "metadata": {},
   "outputs": [
    {
     "name": "stdout",
     "output_type": "stream",
     "text": [
      "['business_id', 'date']\n",
      "['review_id', 'user_id', 'business_id', 'stars', 'useful', 'funny', 'cool', 'text', 'date']\n",
      "['user_id', 'business_id', 'text', 'date', 'compliment_count']\n",
      "['user_id', 'name', 'review_count', 'yelping_since', 'useful', 'funny', 'cool', 'elite', 'friends', 'fans', 'average_stars', 'compliment_hot', 'compliment_more', 'compliment_profile', 'compliment_cute', 'compliment_list', 'compliment_note', 'compliment_plain', 'compliment_cool', 'compliment_funny', 'compliment_writer', 'compliment_photos']\n"
     ]
    }
   ],
   "source": [
    "print(list(checkin_status_df.columns))\n",
    "print(list(review_df.columns))\n",
    "print(list(tip_df.columns))\n",
    "print(list(user_df.columns))"
   ]
  },
  {
   "cell_type": "code",
   "execution_count": 10,
   "id": "1379e502",
   "metadata": {},
   "outputs": [],
   "source": [
    "business_df.drop(['attributes','hours'],axis=1,inplace= True)"
   ]
  },
  {
   "cell_type": "code",
   "execution_count": 11,
   "id": "319fc0e5",
   "metadata": {},
   "outputs": [
    {
     "name": "stdout",
     "output_type": "stream",
     "text": [
      "['business_id', 'name', 'address', 'city', 'state', 'postal_code', 'latitude', 'longitude', 'stars', 'review_count', 'is_open', 'categories']\n"
     ]
    }
   ],
   "source": [
    "print(list(business_df.columns))"
   ]
  },
  {
   "cell_type": "code",
   "execution_count": null,
   "id": "29ae0aaa",
   "metadata": {},
   "outputs": [],
   "source": [
    "engine = create_engine('sqlite:///yelp.db')\n",
    "def load_dataframe(df, table_name , engine):\n",
    "    df.to_sql(table_name , con=engine , if_exists='replace' , index=False)\n",
    "    \n",
    "    \n",
    "load_dataframe(business_df , 'Business' , engine)\n",
    "load_dataframe(checkin_status_df,'Checkin' , engine)\n",
    "load_dataframe(review_df , 'Review' , engine)\n",
    "load_dataframe(user_df,'User',engine)\n",
    "load_dataframe(tip_df,'Tip',engine)"
   ]
  },
  {
   "cell_type": "code",
   "execution_count": null,
   "id": "6bdb735c",
   "metadata": {},
   "outputs": [],
   "source": []
  }
 ],
 "metadata": {
  "kernelspec": {
   "display_name": "Python 3 (ipykernel)",
   "language": "python",
   "name": "python3"
  },
  "language_info": {
   "codemirror_mode": {
    "name": "ipython",
    "version": 3
   },
   "file_extension": ".py",
   "mimetype": "text/x-python",
   "name": "python",
   "nbconvert_exporter": "python",
   "pygments_lexer": "ipython3",
   "version": "3.11.5"
  }
 },
 "nbformat": 4,
 "nbformat_minor": 5
}
